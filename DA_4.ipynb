{
  "cells": [
    {
      "cell_type": "markdown",
      "metadata": {
        "id": "_t1q3L86-wBi"
      },
      "source": [
        "# Experiment 4: Linear Regression\n",
        "\n",
        "#### Name: Nachiket Sankhe\n",
        "#### UID: 2019120053\n",
        "#### Class: BE EXTC"
      ]
    },
    {
      "cell_type": "markdown",
      "metadata": {
        "id": "HD8YA7hv-wBx"
      },
      "source": [
        "Dataset Description: Given dataset is a climate change dataset which contains the yearly data of the amount of various gases and substances in the air and the temperature. Our task is to find out the correlation of all variables and build a linear regression model."
      ]
    },
    {
      "cell_type": "code",
      "execution_count": null,
      "metadata": {
        "id": "-ggpUrZ4e6Np"
      },
      "outputs": [],
      "source": [
        "import pandas as pd\n",
        "import seaborn as sns\n",
        "import numpy as np\n",
        "import matplotlib.pyplot as plt\n",
        "from sklearn.metrics import r2_score"
      ]
    },
    {
      "cell_type": "code",
      "execution_count": null,
      "metadata": {
        "id": "aeYiRo4E-wB5"
      },
      "outputs": [],
      "source": [
        "def get_corr_coef(data, col):\n",
        "  for i in data.columns:\n",
        "    if(i != col):\n",
        "      r = np.corrcoef(data[col], data[i])\n",
        "      print(\"The correlation coefficient of {} and {} is {}\".format(col, i, r[1][0]))"
      ]
    },
    {
      "cell_type": "markdown",
      "metadata": {
        "id": "jSsJWNhK-wB8"
      },
      "source": [
        "Custom function to calculate and print correlation coefficients of a variable with all other variables in a dataframe."
      ]
    },
    {
      "cell_type": "code",
      "execution_count": null,
      "metadata": {
        "id": "PPL6PUl-fNDu",
        "outputId": "63cc0c96-468c-4751-d42b-53dae01c5e3c"
      },
      "outputs": [
        {
          "data": {
            "text/html": [
              "<div>\n",
              "<style scoped>\n",
              "    .dataframe tbody tr th:only-of-type {\n",
              "        vertical-align: middle;\n",
              "    }\n",
              "\n",
              "    .dataframe tbody tr th {\n",
              "        vertical-align: top;\n",
              "    }\n",
              "\n",
              "    .dataframe thead th {\n",
              "        text-align: right;\n",
              "    }\n",
              "</style>\n",
              "<table border=\"1\" class=\"dataframe\">\n",
              "  <thead>\n",
              "    <tr style=\"text-align: right;\">\n",
              "      <th></th>\n",
              "      <th>Year</th>\n",
              "      <th>Month</th>\n",
              "      <th>MEI</th>\n",
              "      <th>CO2</th>\n",
              "      <th>CH4</th>\n",
              "      <th>N2O</th>\n",
              "      <th>CFC-11</th>\n",
              "      <th>CFC-12</th>\n",
              "      <th>TSI</th>\n",
              "      <th>Aerosols</th>\n",
              "      <th>Temp</th>\n",
              "    </tr>\n",
              "  </thead>\n",
              "  <tbody>\n",
              "    <tr>\n",
              "      <th>0</th>\n",
              "      <td>1983</td>\n",
              "      <td>5</td>\n",
              "      <td>2.556</td>\n",
              "      <td>345.96</td>\n",
              "      <td>1638.59</td>\n",
              "      <td>303.677</td>\n",
              "      <td>191.324</td>\n",
              "      <td>350.113</td>\n",
              "      <td>1366.1024</td>\n",
              "      <td>0.0863</td>\n",
              "      <td>0.109</td>\n",
              "    </tr>\n",
              "    <tr>\n",
              "      <th>1</th>\n",
              "      <td>1983</td>\n",
              "      <td>6</td>\n",
              "      <td>2.167</td>\n",
              "      <td>345.52</td>\n",
              "      <td>1633.71</td>\n",
              "      <td>303.746</td>\n",
              "      <td>192.057</td>\n",
              "      <td>351.848</td>\n",
              "      <td>1366.1208</td>\n",
              "      <td>0.0794</td>\n",
              "      <td>0.118</td>\n",
              "    </tr>\n",
              "    <tr>\n",
              "      <th>2</th>\n",
              "      <td>1983</td>\n",
              "      <td>7</td>\n",
              "      <td>1.741</td>\n",
              "      <td>344.15</td>\n",
              "      <td>1633.22</td>\n",
              "      <td>303.795</td>\n",
              "      <td>192.818</td>\n",
              "      <td>353.725</td>\n",
              "      <td>1366.2850</td>\n",
              "      <td>0.0731</td>\n",
              "      <td>0.137</td>\n",
              "    </tr>\n",
              "    <tr>\n",
              "      <th>3</th>\n",
              "      <td>1983</td>\n",
              "      <td>8</td>\n",
              "      <td>1.130</td>\n",
              "      <td>342.25</td>\n",
              "      <td>1631.35</td>\n",
              "      <td>303.839</td>\n",
              "      <td>193.602</td>\n",
              "      <td>355.633</td>\n",
              "      <td>1366.4202</td>\n",
              "      <td>0.0673</td>\n",
              "      <td>0.176</td>\n",
              "    </tr>\n",
              "    <tr>\n",
              "      <th>4</th>\n",
              "      <td>1983</td>\n",
              "      <td>9</td>\n",
              "      <td>0.428</td>\n",
              "      <td>340.17</td>\n",
              "      <td>1648.40</td>\n",
              "      <td>303.901</td>\n",
              "      <td>194.392</td>\n",
              "      <td>357.465</td>\n",
              "      <td>1366.2335</td>\n",
              "      <td>0.0619</td>\n",
              "      <td>0.149</td>\n",
              "    </tr>\n",
              "  </tbody>\n",
              "</table>\n",
              "</div>"
            ],
            "text/plain": [
              "   Year  Month    MEI     CO2      CH4      N2O   CFC-11   CFC-12        TSI  \\\n",
              "0  1983      5  2.556  345.96  1638.59  303.677  191.324  350.113  1366.1024   \n",
              "1  1983      6  2.167  345.52  1633.71  303.746  192.057  351.848  1366.1208   \n",
              "2  1983      7  1.741  344.15  1633.22  303.795  192.818  353.725  1366.2850   \n",
              "3  1983      8  1.130  342.25  1631.35  303.839  193.602  355.633  1366.4202   \n",
              "4  1983      9  0.428  340.17  1648.40  303.901  194.392  357.465  1366.2335   \n",
              "\n",
              "   Aerosols   Temp  \n",
              "0    0.0863  0.109  \n",
              "1    0.0794  0.118  \n",
              "2    0.0731  0.137  \n",
              "3    0.0673  0.176  \n",
              "4    0.0619  0.149  "
            ]
          },
          "execution_count": 30,
          "metadata": {},
          "output_type": "execute_result"
        }
      ],
      "source": [
        "data = pd.read_csv(\"climate_change.csv\")\n",
        "data.head()"
      ]
    },
    {
      "cell_type": "markdown",
      "metadata": {
        "id": "LQs5k2Ji-wCC"
      },
      "source": [
        "Importing the dataset and understanding the variables present."
      ]
    },
    {
      "cell_type": "markdown",
      "metadata": {
        "id": "WiPoACtJ-wCE"
      },
      "source": [
        "### Data Preprocessing"
      ]
    },
    {
      "cell_type": "code",
      "execution_count": null,
      "metadata": {
        "id": "K0qoeP4Kivej"
      },
      "outputs": [],
      "source": [
        "#finding inter quartile range to remove outliers\n",
        "Q1 = data.quantile(0.25)\n",
        "Q3 = data.quantile(0.75)\n",
        "IQR = Q3 - Q1\n",
        "data = data[~((data < (Q1 - 1.5 * IQR)) |(data > (Q3 + 1.5 * IQR))).any(axis=1)]"
      ]
    },
    {
      "cell_type": "code",
      "execution_count": null,
      "metadata": {
        "colab": {
          "base_uri": "https://localhost:8080/",
          "height": 301
        },
        "id": "Fg1anvBog6y8",
        "outputId": "f1baafab-b7b1-41fc-f5b3-68a8c9f258c6"
      },
      "outputs": [
        {
          "data": {
            "image/png": "[encoded data removed]",
            "text/plain": [
              "<Figure size 640x480 with 2 Axes>"
            ]
          },
          "metadata": {},
          "output_type": "display_data"
        }
      ],
      "source": [
        "sns.heatmap(data.corr(), annot=True);"
      ]
    },
    {
      "cell_type": "markdown",
      "metadata": {
        "id": "5jSG5CQYki62"
      },
      "source": [
        "The heatmap shows that CO2, CH4, N2O and CFC-12 are highly correlated with temperature."
      ]
    },
    {
      "cell_type": "code",
      "execution_count": null,
      "metadata": {
        "colab": {
          "base_uri": "https://localhost:8080/"
        },
        "id": "jcQdlakBlKxd",
        "outputId": "df01ca1e-45e9-4e19-f1a9-f1071a154671"
      },
      "outputs": [
        {
          "data": {
            "text/plain": [
              "Index(['Year', 'Month', 'MEI', 'CO2', 'CH4', 'N2O', 'CFC-11', 'CFC-12', 'TSI',\n",
              "       'Aerosols', 'Temp'],\n",
              "      dtype='object')"
            ]
          },
          "execution_count": 33,
          "metadata": {},
          "output_type": "execute_result"
        }
      ],
      "source": [
        "data.columns"
      ]
    },
    {
      "cell_type": "code",
      "execution_count": null,
      "metadata": {
        "colab": {
          "base_uri": "https://localhost:8080/"
        },
        "id": "FGtp7cSJkr-V",
        "outputId": "e7ccbb5b-2e41-4931-e54b-0232a539f58c"
      },
      "outputs": [
        {
          "name": "stdout",
          "output_type": "stream",
          "text": [
            "                            OLS Regression Results                            \n",
            "==============================================================================\n",
            "Dep. Variable:                   Temp   R-squared:                       0.703\n",
            "Model:                            OLS   Adj. R-squared:                  0.692\n",
            "Method:                 Least Squares   F-statistic:                     69.11\n",
            "Date:                Sat, 19 Nov 2022   Prob (F-statistic):           2.36e-57\n",
            "Time:                        16:20:30   Log-Likelihood:                 251.36\n",
            "No. Observations:                 243   AIC:                            -484.7\n",
            "Df Residuals:                     234   BIC:                            -453.3\n",
            "Df Model:                           8                                         \n",
            "Covariance Type:            nonrobust                                         \n",
            "==============================================================================\n",
            "                 coef    std err          t      P>|t|      [0.025      0.975]\n",
            "------------------------------------------------------------------------------\n",
            "const        -60.8378     23.736     -2.563      0.011    -107.600     -14.075\n",
            "MEI            0.0665      0.007      9.650      0.000       0.053       0.080\n",
            "CO2            0.0033      0.002      1.389      0.166      -0.001       0.008\n",
            "CH4           -0.0005      0.001     -0.895      0.372      -0.002       0.001\n",
            "N2O           -0.0033      0.010     -0.319      0.750      -0.023       0.017\n",
            "CFC-11        -0.0032      0.002     -1.319      0.188      -0.008       0.002\n",
            "CFC-12         0.0027      0.001      2.173      0.031       0.000       0.005\n",
            "TSI            0.0449      0.018      2.532      0.012       0.010       0.080\n",
            "Aerosols      -8.2339      2.042     -4.032      0.000     -12.257      -4.211\n",
            "==============================================================================\n",
            "Omnibus:                        3.269   Durbin-Watson:                   1.015\n",
            "Prob(Omnibus):                  0.195   Jarque-Bera (JB):                2.996\n",
            "Skew:                           0.194   Prob(JB):                        0.224\n",
            "Kurtosis:                       3.381   Cond. No.                     9.94e+06\n",
            "==============================================================================\n",
            "\n",
            "Notes:\n",
            "[1] Standard Errors assume that the covariance matrix of the errors is correctly specified.\n",
            "[2] The condition number is large, 9.94e+06. This might indicate that there are\n",
            "strong multicollinearity or other numerical problems.\n"
          ]
        }
      ],
      "source": [
        "import statsmodels.api as sm\n",
        "x = data[['MEI', 'CO2', 'CH4', 'N2O', 'CFC-11', 'CFC-12', 'TSI',\n",
        "       'Aerosols']]\n",
        "y = data[['Temp']]\n",
        "X2 = sm.add_constant(x)\n",
        "est = sm.OLS(y, X2)\n",
        "est2 = est.fit()\n",
        "print(est2.summary())"
      ]
    },
    {
      "cell_type": "markdown",
      "metadata": {
        "id": "O3KdZIfIl714"
      },
      "source": [
        "Attributes with p-values less than 0.05 are MEI, CFC-12, TSI and Aerosols."
      ]
    },
    {
      "cell_type": "code",
      "execution_count": null,
      "metadata": {
        "colab": {
          "base_uri": "https://localhost:8080/",
          "height": 206
        },
        "id": "Ibg-7YXZmTfq",
        "outputId": "53f87d52-2a47-41b1-cde8-a648a78bae38"
      },
      "outputs": [
        {
          "data": {
            "text/html": [
              "<div>\n",
              "<style scoped>\n",
              "    .dataframe tbody tr th:only-of-type {\n",
              "        vertical-align: middle;\n",
              "    }\n",
              "\n",
              "    .dataframe tbody tr th {\n",
              "        vertical-align: top;\n",
              "    }\n",
              "\n",
              "    .dataframe thead th {\n",
              "        text-align: right;\n",
              "    }\n",
              "</style>\n",
              "<table border=\"1\" class=\"dataframe\">\n",
              "  <thead>\n",
              "    <tr style=\"text-align: right;\">\n",
              "      <th></th>\n",
              "      <th>Year</th>\n",
              "      <th>Month</th>\n",
              "      <th>MEI</th>\n",
              "      <th>CO2</th>\n",
              "      <th>CH4</th>\n",
              "      <th>N2O</th>\n",
              "      <th>CFC-11</th>\n",
              "      <th>CFC-12</th>\n",
              "      <th>TSI</th>\n",
              "      <th>Aerosols</th>\n",
              "      <th>Temp</th>\n",
              "    </tr>\n",
              "  </thead>\n",
              "  <tbody>\n",
              "    <tr>\n",
              "      <th>29</th>\n",
              "      <td>1985</td>\n",
              "      <td>10</td>\n",
              "      <td>-0.140</td>\n",
              "      <td>343.08</td>\n",
              "      <td>1681.56</td>\n",
              "      <td>305.395</td>\n",
              "      <td>215.327</td>\n",
              "      <td>390.676</td>\n",
              "      <td>1365.5269</td>\n",
              "      <td>0.0101</td>\n",
              "      <td>-0.008</td>\n",
              "    </tr>\n",
              "    <tr>\n",
              "      <th>30</th>\n",
              "      <td>1985</td>\n",
              "      <td>11</td>\n",
              "      <td>-0.050</td>\n",
              "      <td>344.40</td>\n",
              "      <td>1680.68</td>\n",
              "      <td>305.530</td>\n",
              "      <td>216.282</td>\n",
              "      <td>392.714</td>\n",
              "      <td>1365.6289</td>\n",
              "      <td>0.0097</td>\n",
              "      <td>-0.093</td>\n",
              "    </tr>\n",
              "    <tr>\n",
              "      <th>31</th>\n",
              "      <td>1985</td>\n",
              "      <td>12</td>\n",
              "      <td>-0.293</td>\n",
              "      <td>345.82</td>\n",
              "      <td>1677.99</td>\n",
              "      <td>305.653</td>\n",
              "      <td>217.326</td>\n",
              "      <td>394.539</td>\n",
              "      <td>1365.6794</td>\n",
              "      <td>0.0122</td>\n",
              "      <td>-0.002</td>\n",
              "    </tr>\n",
              "    <tr>\n",
              "      <th>32</th>\n",
              "      <td>1986</td>\n",
              "      <td>1</td>\n",
              "      <td>-0.307</td>\n",
              "      <td>346.54</td>\n",
              "      <td>1675.82</td>\n",
              "      <td>305.775</td>\n",
              "      <td>218.382</td>\n",
              "      <td>396.082</td>\n",
              "      <td>1365.6746</td>\n",
              "      <td>0.0146</td>\n",
              "      <td>0.121</td>\n",
              "    </tr>\n",
              "    <tr>\n",
              "      <th>33</th>\n",
              "      <td>1986</td>\n",
              "      <td>2</td>\n",
              "      <td>-0.191</td>\n",
              "      <td>347.13</td>\n",
              "      <td>1666.83</td>\n",
              "      <td>305.911</td>\n",
              "      <td>219.379</td>\n",
              "      <td>397.345</td>\n",
              "      <td>1365.5475</td>\n",
              "      <td>0.0158</td>\n",
              "      <td>0.065</td>\n",
              "    </tr>\n",
              "  </tbody>\n",
              "</table>\n",
              "</div>"
            ],
            "text/plain": [
              "    Year  Month    MEI     CO2      CH4      N2O   CFC-11   CFC-12        TSI  \\\n",
              "29  1985     10 -0.140  343.08  1681.56  305.395  215.327  390.676  1365.5269   \n",
              "30  1985     11 -0.050  344.40  1680.68  305.530  216.282  392.714  1365.6289   \n",
              "31  1985     12 -0.293  345.82  1677.99  305.653  217.326  394.539  1365.6794   \n",
              "32  1986      1 -0.307  346.54  1675.82  305.775  218.382  396.082  1365.6746   \n",
              "33  1986      2 -0.191  347.13  1666.83  305.911  219.379  397.345  1365.5475   \n",
              "\n",
              "    Aerosols   Temp  \n",
              "29    0.0101 -0.008  \n",
              "30    0.0097 -0.093  \n",
              "31    0.0122 -0.002  \n",
              "32    0.0146  0.121  \n",
              "33    0.0158  0.065  "
            ]
          },
          "execution_count": 35,
          "metadata": {},
          "output_type": "execute_result"
        }
      ],
      "source": [
        "train_data = data[data.iloc[:,0]<=2006]\n",
        "train_data.head()"
      ]
    },
    {
      "cell_type": "markdown",
      "metadata": {
        "id": "0CWdB60A-wCQ"
      },
      "source": [
        "Creating a training data dataframe by selecting data upto 2006."
      ]
    },
    {
      "cell_type": "code",
      "execution_count": null,
      "metadata": {
        "colab": {
          "base_uri": "https://localhost:8080/",
          "height": 206
        },
        "id": "awspQhJ8nmGA",
        "outputId": "e29d2c6e-f0ee-4e52-d027-096a7abea1f2"
      },
      "outputs": [
        {
          "data": {
            "text/html": [
              "<div>\n",
              "<style scoped>\n",
              "    .dataframe tbody tr th:only-of-type {\n",
              "        vertical-align: middle;\n",
              "    }\n",
              "\n",
              "    .dataframe tbody tr th {\n",
              "        vertical-align: top;\n",
              "    }\n",
              "\n",
              "    .dataframe thead th {\n",
              "        text-align: right;\n",
              "    }\n",
              "</style>\n",
              "<table border=\"1\" class=\"dataframe\">\n",
              "  <thead>\n",
              "    <tr style=\"text-align: right;\">\n",
              "      <th></th>\n",
              "      <th>Year</th>\n",
              "      <th>Month</th>\n",
              "      <th>MEI</th>\n",
              "      <th>CO2</th>\n",
              "      <th>CH4</th>\n",
              "      <th>N2O</th>\n",
              "      <th>CFC-11</th>\n",
              "      <th>CFC-12</th>\n",
              "      <th>TSI</th>\n",
              "      <th>Aerosols</th>\n",
              "      <th>Temp</th>\n",
              "    </tr>\n",
              "  </thead>\n",
              "  <tbody>\n",
              "    <tr>\n",
              "      <th>284</th>\n",
              "      <td>2007</td>\n",
              "      <td>1</td>\n",
              "      <td>0.974</td>\n",
              "      <td>382.93</td>\n",
              "      <td>1799.66</td>\n",
              "      <td>320.561</td>\n",
              "      <td>248.372</td>\n",
              "      <td>539.206</td>\n",
              "      <td>1365.7173</td>\n",
              "      <td>0.0054</td>\n",
              "      <td>0.601</td>\n",
              "    </tr>\n",
              "    <tr>\n",
              "      <th>285</th>\n",
              "      <td>2007</td>\n",
              "      <td>2</td>\n",
              "      <td>0.510</td>\n",
              "      <td>383.81</td>\n",
              "      <td>1803.08</td>\n",
              "      <td>320.571</td>\n",
              "      <td>248.264</td>\n",
              "      <td>538.973</td>\n",
              "      <td>1365.7145</td>\n",
              "      <td>0.0051</td>\n",
              "      <td>0.498</td>\n",
              "    </tr>\n",
              "    <tr>\n",
              "      <th>286</th>\n",
              "      <td>2007</td>\n",
              "      <td>3</td>\n",
              "      <td>0.074</td>\n",
              "      <td>384.56</td>\n",
              "      <td>1803.10</td>\n",
              "      <td>320.548</td>\n",
              "      <td>247.997</td>\n",
              "      <td>538.811</td>\n",
              "      <td>1365.7544</td>\n",
              "      <td>0.0045</td>\n",
              "      <td>0.435</td>\n",
              "    </tr>\n",
              "    <tr>\n",
              "      <th>287</th>\n",
              "      <td>2007</td>\n",
              "      <td>4</td>\n",
              "      <td>-0.049</td>\n",
              "      <td>386.40</td>\n",
              "      <td>1802.11</td>\n",
              "      <td>320.518</td>\n",
              "      <td>247.574</td>\n",
              "      <td>538.586</td>\n",
              "      <td>1365.7228</td>\n",
              "      <td>0.0045</td>\n",
              "      <td>0.466</td>\n",
              "    </tr>\n",
              "    <tr>\n",
              "      <th>288</th>\n",
              "      <td>2007</td>\n",
              "      <td>5</td>\n",
              "      <td>0.183</td>\n",
              "      <td>386.58</td>\n",
              "      <td>1795.65</td>\n",
              "      <td>320.445</td>\n",
              "      <td>247.224</td>\n",
              "      <td>538.130</td>\n",
              "      <td>1365.6932</td>\n",
              "      <td>0.0041</td>\n",
              "      <td>0.372</td>\n",
              "    </tr>\n",
              "  </tbody>\n",
              "</table>\n",
              "</div>"
            ],
            "text/plain": [
              "     Year  Month    MEI     CO2      CH4      N2O   CFC-11   CFC-12  \\\n",
              "284  2007      1  0.974  382.93  1799.66  320.561  248.372  539.206   \n",
              "285  2007      2  0.510  383.81  1803.08  320.571  248.264  538.973   \n",
              "286  2007      3  0.074  384.56  1803.10  320.548  247.997  538.811   \n",
              "287  2007      4 -0.049  386.40  1802.11  320.518  247.574  538.586   \n",
              "288  2007      5  0.183  386.58  1795.65  320.445  247.224  538.130   \n",
              "\n",
              "           TSI  Aerosols   Temp  \n",
              "284  1365.7173    0.0054  0.601  \n",
              "285  1365.7145    0.0051  0.498  \n",
              "286  1365.7544    0.0045  0.435  \n",
              "287  1365.7228    0.0045  0.466  \n",
              "288  1365.6932    0.0041  0.372  "
            ]
          },
          "execution_count": 36,
          "metadata": {},
          "output_type": "execute_result"
        }
      ],
      "source": [
        "test_data = data[data.iloc[:,0]>2006]  \n",
        "test_data.head()"
      ]
    },
    {
      "cell_type": "markdown",
      "metadata": {
        "id": "DorYQl2w-wCS"
      },
      "source": [
        "Creating a testing data dataframe by selecting data after 2006."
      ]
    },
    {
      "cell_type": "code",
      "execution_count": null,
      "metadata": {
        "id": "y7wF0I25uHW5"
      },
      "outputs": [],
      "source": [
        "x = data[['MEI', 'CO2', 'CH4', 'N2O', 'CFC-11', 'CFC-12', 'TSI', 'Aerosols']]\n",
        "y = data['Temp']"
      ]
    },
    {
      "cell_type": "code",
      "execution_count": null,
      "metadata": {
        "id": "lN8cM3sxoDXq"
      },
      "outputs": [],
      "source": [
        "x_train = train_data[['MEI','CO2', 'CH4', 'N2O', 'CFC-11', 'CFC-12', 'TSI', 'Aerosols']]\n",
        "y_train = train_data['Temp']\n",
        "x_test = test_data[['MEI', 'CO2', 'CH4', 'N2O', 'CFC-11',  'CFC-12', 'TSI', 'Aerosols']]\n",
        "y_test = test_data['Temp']"
      ]
    },
    {
      "cell_type": "markdown",
      "metadata": {
        "id": "3ivJwhZU-wCU"
      },
      "source": [
        "Separating the variables and target into two dataframes."
      ]
    },
    {
      "cell_type": "code",
      "execution_count": null,
      "metadata": {
        "colab": {
          "base_uri": "https://localhost:8080/"
        },
        "id": "gOMJGAkQoj3w",
        "outputId": "167c7c37-36ec-403f-d343-83f168bc0eb3"
      },
      "outputs": [
        {
          "name": "stdout",
          "output_type": "stream",
          "text": [
            "                            OLS Regression Results                            \n",
            "==============================================================================\n",
            "Dep. Variable:                   Temp   R-squared:                       0.722\n",
            "Model:                            OLS   Adj. R-squared:                  0.711\n",
            "Method:                 Least Squares   F-statistic:                     68.15\n",
            "Date:                Sat, 19 Nov 2022   Prob (F-statistic):           3.37e-54\n",
            "Time:                        16:20:30   Log-Likelihood:                 229.49\n",
            "No. Observations:                 219   AIC:                            -441.0\n",
            "Df Residuals:                     210   BIC:                            -410.5\n",
            "Df Model:                           8                                         \n",
            "Covariance Type:            nonrobust                                         \n",
            "==============================================================================\n",
            "                 coef    std err          t      P>|t|      [0.025      0.975]\n",
            "------------------------------------------------------------------------------\n",
            "const        -51.0320     24.469     -2.086      0.038     -99.268      -2.796\n",
            "MEI            0.0622      0.007      8.508      0.000       0.048       0.077\n",
            "CO2            0.0050      0.002      1.995      0.047    5.82e-05       0.010\n",
            "CH4           -0.0004      0.001     -0.689      0.491      -0.001       0.001\n",
            "N2O            0.0018      0.012      0.156      0.876      -0.021       0.025\n",
            "CFC-11        -0.0011      0.003     -0.406      0.685      -0.007       0.004\n",
            "CFC-12         0.0014      0.001      0.940      0.348      -0.002       0.004\n",
            "TSI            0.0360      0.019      1.931      0.055      -0.001       0.073\n",
            "Aerosols      -8.4359      2.024     -4.167      0.000     -12.427      -4.445\n",
            "==============================================================================\n",
            "Omnibus:                        6.330   Durbin-Watson:                   0.994\n",
            "Prob(Omnibus):                  0.042   Jarque-Bera (JB):                6.027\n",
            "Skew:                           0.363   Prob(JB):                       0.0491\n",
            "Kurtosis:                       3.366   Cond. No.                     9.82e+06\n",
            "==============================================================================\n",
            "\n",
            "Notes:\n",
            "[1] Standard Errors assume that the covariance matrix of the errors is correctly specified.\n",
            "[2] The condition number is large, 9.82e+06. This might indicate that there are\n",
            "strong multicollinearity or other numerical problems.\n"
          ]
        }
      ],
      "source": [
        "X2_train = sm.add_constant(x_train)\n",
        "est_train = sm.OLS(y_train, X2_train)\n",
        "est2 = est_train.fit()\n",
        "print(est2.summary())"
      ]
    },
    {
      "cell_type": "code",
      "execution_count": null,
      "metadata": {
        "colab": {
          "base_uri": "https://localhost:8080/"
        },
        "id": "HpziyGhpo6jl",
        "outputId": "23727710-dcec-4e94-c8e7-08921d424679"
      },
      "outputs": [
        {
          "data": {
            "text/html": [
              "<style>#sk-container-id-3 {color: black;background-color: white;}#sk-container-id-3 pre{padding: 0;}#sk-container-id-3 div.sk-toggleable {background-color: white;}#sk-container-id-3 label.sk-toggleable__label {cursor: pointer;display: block;width: 100%;margin-bottom: 0;padding: 0.3em;box-sizing: border-box;text-align: center;}#sk-container-id-3 label.sk-toggleable__label-arrow:before {content: \"▸\";float: left;margin-right: 0.25em;color: #696969;}#sk-container-id-3 label.sk-toggleable__label-arrow:hover:before {color: black;}#sk-container-id-3 div.sk-estimator:hover label.sk-toggleable__label-arrow:before {color: black;}#sk-container-id-3 div.sk-toggleable__content {max-height: 0;max-width: 0;overflow: hidden;text-align: left;background-color: #f0f8ff;}#sk-container-id-3 div.sk-toggleable__content pre {margin: 0.2em;color: black;border-radius: 0.25em;background-color: #f0f8ff;}#sk-container-id-3 input.sk-toggleable__control:checked~div.sk-toggleable__content {max-height: 200px;max-width: 100%;overflow: auto;}#sk-container-id-3 input.sk-toggleable__control:checked~label.sk-toggleable__label-arrow:before {content: \"▾\";}#sk-container-id-3 div.sk-estimator input.sk-toggleable__control:checked~label.sk-toggleable__label {background-color: #d4ebff;}#sk-container-id-3 div.sk-label input.sk-toggleable__control:checked~label.sk-toggleable__label {background-color: #d4ebff;}#sk-container-id-3 input.sk-hidden--visually {border: 0;clip: rect(1px 1px 1px 1px);clip: rect(1px, 1px, 1px, 1px);height: 1px;margin: -1px;overflow: hidden;padding: 0;position: absolute;width: 1px;}#sk-container-id-3 div.sk-estimator {font-family: monospace;background-color: #f0f8ff;border: 1px dotted black;border-radius: 0.25em;box-sizing: border-box;margin-bottom: 0.5em;}#sk-container-id-3 div.sk-estimator:hover {background-color: #d4ebff;}#sk-container-id-3 div.sk-parallel-item::after {content: \"\";width: 100%;border-bottom: 1px solid gray;flex-grow: 1;}#sk-container-id-3 div.sk-label:hover label.sk-toggleable__label {background-color: #d4ebff;}#sk-container-id-3 div.sk-serial::before {content: \"\";position: absolute;border-left: 1px solid gray;box-sizing: border-box;top: 0;bottom: 0;left: 50%;z-index: 0;}#sk-container-id-3 div.sk-serial {display: flex;flex-direction: column;align-items: center;background-color: white;padding-right: 0.2em;padding-left: 0.2em;position: relative;}#sk-container-id-3 div.sk-item {position: relative;z-index: 1;}#sk-container-id-3 div.sk-parallel {display: flex;align-items: stretch;justify-content: center;background-color: white;position: relative;}#sk-container-id-3 div.sk-item::before, #sk-container-id-3 div.sk-parallel-item::before {content: \"\";position: absolute;border-left: 1px solid gray;box-sizing: border-box;top: 0;bottom: 0;left: 50%;z-index: -1;}#sk-container-id-3 div.sk-parallel-item {display: flex;flex-direction: column;z-index: 1;position: relative;background-color: white;}#sk-container-id-3 div.sk-parallel-item:first-child::after {align-self: flex-end;width: 50%;}#sk-container-id-3 div.sk-parallel-item:last-child::after {align-self: flex-start;width: 50%;}#sk-container-id-3 div.sk-parallel-item:only-child::after {width: 0;}#sk-container-id-3 div.sk-dashed-wrapped {border: 1px dashed gray;margin: 0 0.4em 0.5em 0.4em;box-sizing: border-box;padding-bottom: 0.4em;background-color: white;}#sk-container-id-3 div.sk-label label {font-family: monospace;font-weight: bold;display: inline-block;line-height: 1.2em;}#sk-container-id-3 div.sk-label-container {text-align: center;}#sk-container-id-3 div.sk-container {/* jupyter's `normalize.less` sets `[hidden] { display: none; }` but bootstrap.min.css set `[hidden] { display: none !important; }` so we also need the `!important` here to be able to override the default hidden behavior on the sphinx rendered scikit-learn.org. See: https://github.com/scikit-learn/scikit-learn/issues/21755 */display: inline-block !important;position: relative;}#sk-container-id-3 div.sk-text-repr-fallback {display: none;}</style><div id=\"sk-container-id-3\" class=\"sk-top-container\"><div class=\"sk-text-repr-fallback\"><pre>LinearRegression()</pre><b>In a Jupyter environment, please rerun this cell to show the HTML representation or trust the notebook. <br />On GitHub, the HTML representation is unable to render, please try loading this page with nbviewer.org.</b></div><div class=\"sk-container\" hidden><div class=\"sk-item\"><div class=\"sk-estimator sk-toggleable\"><input class=\"sk-toggleable__control sk-hidden--visually\" id=\"sk-estimator-id-3\" type=\"checkbox\" checked><label for=\"sk-estimator-id-3\" class=\"sk-toggleable__label sk-toggleable__label-arrow\">LinearRegression</label><div class=\"sk-toggleable__content\"><pre>LinearRegression()</pre></div></div></div></div></div>"
            ],
            "text/plain": [
              "LinearRegression()"
            ]
          },
          "execution_count": 40,
          "metadata": {},
          "output_type": "execute_result"
        }
      ],
      "source": [
        "from sklearn.linear_model import LinearRegression\n",
        "clf = LinearRegression()  \n",
        "clf.fit(x_train, y_train)"
      ]
    },
    {
      "cell_type": "markdown",
      "metadata": {
        "id": "P16mTxKD-wCW"
      },
      "source": [
        "Creating a Linear Regression model using the Scikit-Learn API"
      ]
    },
    {
      "cell_type": "code",
      "execution_count": null,
      "metadata": {
        "colab": {
          "base_uri": "https://localhost:8080/"
        },
        "id": "ydstWfaPo9-W",
        "outputId": "30228ff3-da79-412d-b007-da493bd61815"
      },
      "outputs": [
        {
          "name": "stdout",
          "output_type": "stream",
          "text": [
            "Intercept:  -51.03196915985813\n",
            "Coefficients:\n"
          ]
        },
        {
          "data": {
            "text/plain": [
              "[('MEI', 0.0622356977730238),\n",
              " ('CO2', 0.004960698794040838),\n",
              " ('CH4', -0.00038810727802360886),\n",
              " ('N2O', 0.001826241931154713),\n",
              " ('CFC-11', -0.001134499328455555),\n",
              " ('CFC-12', 0.00140132770320733),\n",
              " ('TSI', 0.03604734063953123),\n",
              " ('Aerosols', -8.435947559286046)]"
            ]
          },
          "execution_count": 41,
          "metadata": {},
          "output_type": "execute_result"
        }
      ],
      "source": [
        "print(\"Intercept: \", clf.intercept_)\n",
        "print(\"Coefficients:\")\n",
        "list(zip(x_train, clf.coef_))"
      ]
    },
    {
      "cell_type": "markdown",
      "metadata": {
        "id": "_7Xvb0XJ-wCY"
      },
      "source": [
        "Printing the y-intercept of the best fit line and the regression coefficients of all variables."
      ]
    },
    {
      "cell_type": "code",
      "execution_count": null,
      "metadata": {
        "colab": {
          "base_uri": "https://localhost:8080/"
        },
        "id": "6IcB9T1lsMPd",
        "outputId": "ea1c02ef-622e-40c9-a3b4-b88da74dc2e8"
      },
      "outputs": [
        {
          "name": "stdout",
          "output_type": "stream",
          "text": [
            "Prediction for test set: [0.47395865 0.4503635  0.43347525 0.43430288 0.45407379 0.42558192\n",
            " 0.4256269  0.40086034 0.34299562 0.34452906 0.34506256 0.3546125\n",
            " 0.37297068 0.35481019 0.34472978 0.3962589  0.43969896 0.46681556\n",
            " 0.45350739 0.42400764 0.38408517 0.36584435 0.38171572 0.3874683 ]\n"
          ]
        }
      ],
      "source": [
        "y_pred= clf.predict(x_test)\n",
        "print(\"Prediction for test set: {}\".format(y_pred))"
      ]
    },
    {
      "cell_type": "markdown",
      "metadata": {
        "id": "uRHLyWxj-wCa"
      },
      "source": [
        "Printing the predictions from the model."
      ]
    },
    {
      "cell_type": "code",
      "execution_count": null,
      "metadata": {
        "colab": {
          "base_uri": "https://localhost:8080/",
          "height": 206
        },
        "id": "5H52--IdsU15",
        "outputId": "b80000b1-7895-41c9-d971-f935f027d22b"
      },
      "outputs": [
        {
          "data": {
            "text/html": [
              "<div>\n",
              "<style scoped>\n",
              "    .dataframe tbody tr th:only-of-type {\n",
              "        vertical-align: middle;\n",
              "    }\n",
              "\n",
              "    .dataframe tbody tr th {\n",
              "        vertical-align: top;\n",
              "    }\n",
              "\n",
              "    .dataframe thead th {\n",
              "        text-align: right;\n",
              "    }\n",
              "</style>\n",
              "<table border=\"1\" class=\"dataframe\">\n",
              "  <thead>\n",
              "    <tr style=\"text-align: right;\">\n",
              "      <th></th>\n",
              "      <th>Actual value</th>\n",
              "      <th>Predicted value</th>\n",
              "    </tr>\n",
              "  </thead>\n",
              "  <tbody>\n",
              "    <tr>\n",
              "      <th>284</th>\n",
              "      <td>0.601</td>\n",
              "      <td>0.473959</td>\n",
              "    </tr>\n",
              "    <tr>\n",
              "      <th>285</th>\n",
              "      <td>0.498</td>\n",
              "      <td>0.450364</td>\n",
              "    </tr>\n",
              "    <tr>\n",
              "      <th>286</th>\n",
              "      <td>0.435</td>\n",
              "      <td>0.433475</td>\n",
              "    </tr>\n",
              "    <tr>\n",
              "      <th>287</th>\n",
              "      <td>0.466</td>\n",
              "      <td>0.434303</td>\n",
              "    </tr>\n",
              "    <tr>\n",
              "      <th>288</th>\n",
              "      <td>0.372</td>\n",
              "      <td>0.454074</td>\n",
              "    </tr>\n",
              "  </tbody>\n",
              "</table>\n",
              "</div>"
            ],
            "text/plain": [
              "     Actual value  Predicted value\n",
              "284         0.601         0.473959\n",
              "285         0.498         0.450364\n",
              "286         0.435         0.433475\n",
              "287         0.466         0.434303\n",
              "288         0.372         0.454074"
            ]
          },
          "execution_count": 43,
          "metadata": {},
          "output_type": "execute_result"
        }
      ],
      "source": [
        "clf_diff = pd.DataFrame({'Actual value': y_test, 'Predicted value': y_pred})\n",
        "clf_diff.head()"
      ]
    },
    {
      "cell_type": "markdown",
      "metadata": {
        "id": "jqWfQOkF-wCb"
      },
      "source": [
        "Creating a dataframe with the actual and predicted values and displaying them."
      ]
    },
    {
      "cell_type": "code",
      "execution_count": null,
      "metadata": {
        "colab": {
          "base_uri": "https://localhost:8080/"
        },
        "id": "NMdw8V-SufcP",
        "outputId": "b828ea0e-9d19-49a5-c2fe-2c501ebe0361"
      },
      "outputs": [
        {
          "name": "stdout",
          "output_type": "stream",
          "text": [
            "R squared: 69.69\n",
            "Mean Absolute Error: 0.0788135826026659\n",
            "Mean Square Error: 0.010625956456136834\n",
            "Root Mean Square Error: 0.10308228002977443\n"
          ]
        }
      ],
      "source": [
        "from sklearn.metrics import mean_absolute_error, mean_squared_error\n",
        "meanAbErr = mean_absolute_error(y_test, y_pred)\n",
        "meanSqErr = mean_squared_error(y_test, y_pred)\n",
        "rootMeanSqErr = np.sqrt(meanSqErr)\n",
        "print('R squared: {:.2f}'.format(clf.score(x,y)*100))\n",
        "print('Mean Absolute Error:', meanAbErr)\n",
        "print('Mean Square Error:', meanSqErr)\n",
        "print('Root Mean Square Error:', rootMeanSqErr)"
      ]
    },
    {
      "cell_type": "code",
      "execution_count": null,
      "metadata": {
        "id": "-80ED52U-wCd",
        "outputId": "a65d37df-ca02-4406-8ca4-1f4f2e545a03"
      },
      "outputs": [
        {
          "name": "stdout",
          "output_type": "stream",
          "text": [
            "The correlation coefficient of N2O and Year is 0.9929762349866345\n",
            "The correlation coefficient of N2O and Month is 0.031195858034826104\n",
            "The correlation coefficient of N2O and MEI is -0.06177124908370094\n",
            "The correlation coefficient of N2O and CO2 is 0.9749926361365616\n",
            "The correlation coefficient of N2O and CH4 is 0.8903124993701754\n",
            "The correlation coefficient of N2O and CFC-11 is 0.32738915672104657\n",
            "The correlation coefficient of N2O and CFC-12 is 0.8645200386566593\n",
            "The correlation coefficient of N2O and TSI is 0.15958759016062257\n",
            "The correlation coefficient of N2O and Aerosols is -0.6609381809526802\n",
            "The correlation coefficient of N2O and Temp is 0.7707514627632467\n"
          ]
        }
      ],
      "source": [
        "get_corr_coef(data= train_data, col='N2O')"
      ]
    },
    {
      "cell_type": "markdown",
      "metadata": {
        "id": "-ZeZf99b-wCd"
      },
      "source": [
        "Printing correlation coefficient of N2O with all other variables."
      ]
    },
    {
      "cell_type": "code",
      "execution_count": null,
      "metadata": {
        "id": "hmuO0hKF-wCe",
        "outputId": "f2aaf2ac-092f-4ff9-a8ea-cebcea8fb123"
      },
      "outputs": [
        {
          "name": "stdout",
          "output_type": "stream",
          "text": [
            "The correlation coefficient of CFC-11 and Year is 0.39066011285143837\n",
            "The correlation coefficient of CFC-11 and Month is -0.027567549452848228\n",
            "The correlation coefficient of CFC-11 and MEI is -0.16610201966431876\n",
            "The correlation coefficient of CFC-11 and CO2 is 0.3415448214852587\n",
            "The correlation coefficient of CFC-11 and CH4 is 0.6279137878980163\n",
            "The correlation coefficient of CFC-11 and N2O is 0.32738915672104657\n",
            "The correlation coefficient of CFC-11 and CFC-12 is 0.7493680735584558\n",
            "The correlation coefficient of CFC-11 and TSI is 0.2571940874708529\n",
            "The correlation coefficient of CFC-11 and Aerosols is -0.23054354377641412\n",
            "The correlation coefficient of CFC-11 and Temp is 0.3095061888348851\n"
          ]
        }
      ],
      "source": [
        "get_corr_coef(data= train_data, col='CFC-11')"
      ]
    },
    {
      "cell_type": "markdown",
      "metadata": {
        "id": "w2XomQB8-wCf"
      },
      "source": [
        "Printing correlation coefficient of CFC-11 with all other variables."
      ]
    },
    {
      "cell_type": "markdown",
      "metadata": {
        "id": "Cpr_d2JS-wCf"
      },
      "source": [
        "### Training the model with N2O, MEI, TSI and Aerosols only"
      ]
    },
    {
      "cell_type": "code",
      "execution_count": null,
      "metadata": {
        "id": "Nr_l-lpU-wCg"
      },
      "outputs": [],
      "source": [
        "x_train_1 = train_data[['MEI', 'N2O', 'TSI', 'Aerosols']]\n",
        "y_train_1 = train_data['Temp']\n",
        "x_test_1 = test_data[['MEI', 'N2O', 'TSI', 'Aerosols']]\n",
        "y_test_1 = test_data['Temp']\n",
        "x_1 = data[['MEI', 'N2O', 'TSI', 'Aerosols']]\n",
        "y_1 = data[['Temp']]"
      ]
    },
    {
      "cell_type": "code",
      "execution_count": null,
      "metadata": {
        "id": "ZZjrYbpP-wCg",
        "outputId": "8d188c4a-14c1-47c1-a1e6-9b7cb0281797"
      },
      "outputs": [
        {
          "name": "stdout",
          "output_type": "stream",
          "text": [
            "                            OLS Regression Results                            \n",
            "==============================================================================\n",
            "Dep. Variable:                   Temp   R-squared:                       0.706\n",
            "Model:                            OLS   Adj. R-squared:                  0.701\n",
            "Method:                 Least Squares   F-statistic:                     128.7\n",
            "Date:                Sat, 19 Nov 2022   Prob (F-statistic):           8.92e-56\n",
            "Time:                        16:20:31   Log-Likelihood:                 223.51\n",
            "No. Observations:                 219   AIC:                            -437.0\n",
            "Df Residuals:                     214   BIC:                            -420.1\n",
            "Df Model:                           4                                         \n",
            "Covariance Type:            nonrobust                                         \n",
            "==============================================================================\n",
            "                 coef    std err          t      P>|t|      [0.025      0.975]\n",
            "------------------------------------------------------------------------------\n",
            "const        -53.1366     23.146     -2.296      0.023     -98.759      -7.514\n",
            "MEI            0.0606      0.007      8.212      0.000       0.046       0.075\n",
            "N2O            0.0217      0.002     12.113      0.000       0.018       0.025\n",
            "TSI            0.0342      0.017      2.028      0.044       0.001       0.067\n",
            "Aerosols      -8.3714      1.995     -4.197      0.000     -12.303      -4.439\n",
            "==============================================================================\n",
            "Omnibus:                        9.543   Durbin-Watson:                   0.940\n",
            "Prob(Omnibus):                  0.008   Jarque-Bera (JB):               10.250\n",
            "Skew:                           0.407   Prob(JB):                      0.00595\n",
            "Kurtosis:                       3.678   Cond. No.                     5.45e+06\n",
            "==============================================================================\n",
            "\n",
            "Notes:\n",
            "[1] Standard Errors assume that the covariance matrix of the errors is correctly specified.\n",
            "[2] The condition number is large, 5.45e+06. This might indicate that there are\n",
            "strong multicollinearity or other numerical problems.\n"
          ]
        }
      ],
      "source": [
        "X2_train_1 = sm.add_constant(x_train_1)\n",
        "est_train_1 = sm.OLS(y_train_1, X2_train_1)\n",
        "est2_1 = est_train_1.fit()\n",
        "print(est2_1.summary())"
      ]
    },
    {
      "cell_type": "code",
      "execution_count": null,
      "metadata": {
        "id": "616_EHIZ-wCh",
        "outputId": "4f97bd16-64eb-468c-94c5-af47c5f6ff62"
      },
      "outputs": [
        {
          "data": {
            "text/html": [
              "<style>#sk-container-id-4 {color: black;background-color: white;}#sk-container-id-4 pre{padding: 0;}#sk-container-id-4 div.sk-toggleable {background-color: white;}#sk-container-id-4 label.sk-toggleable__label {cursor: pointer;display: block;width: 100%;margin-bottom: 0;padding: 0.3em;box-sizing: border-box;text-align: center;}#sk-container-id-4 label.sk-toggleable__label-arrow:before {content: \"▸\";float: left;margin-right: 0.25em;color: #696969;}#sk-container-id-4 label.sk-toggleable__label-arrow:hover:before {color: black;}#sk-container-id-4 div.sk-estimator:hover label.sk-toggleable__label-arrow:before {color: black;}#sk-container-id-4 div.sk-toggleable__content {max-height: 0;max-width: 0;overflow: hidden;text-align: left;background-color: #f0f8ff;}#sk-container-id-4 div.sk-toggleable__content pre {margin: 0.2em;color: black;border-radius: 0.25em;background-color: #f0f8ff;}#sk-container-id-4 input.sk-toggleable__control:checked~div.sk-toggleable__content {max-height: 200px;max-width: 100%;overflow: auto;}#sk-container-id-4 input.sk-toggleable__control:checked~label.sk-toggleable__label-arrow:before {content: \"▾\";}#sk-container-id-4 div.sk-estimator input.sk-toggleable__control:checked~label.sk-toggleable__label {background-color: #d4ebff;}#sk-container-id-4 div.sk-label input.sk-toggleable__control:checked~label.sk-toggleable__label {background-color: #d4ebff;}#sk-container-id-4 input.sk-hidden--visually {border: 0;clip: rect(1px 1px 1px 1px);clip: rect(1px, 1px, 1px, 1px);height: 1px;margin: -1px;overflow: hidden;padding: 0;position: absolute;width: 1px;}#sk-container-id-4 div.sk-estimator {font-family: monospace;background-color: #f0f8ff;border: 1px dotted black;border-radius: 0.25em;box-sizing: border-box;margin-bottom: 0.5em;}#sk-container-id-4 div.sk-estimator:hover {background-color: #d4ebff;}#sk-container-id-4 div.sk-parallel-item::after {content: \"\";width: 100%;border-bottom: 1px solid gray;flex-grow: 1;}#sk-container-id-4 div.sk-label:hover label.sk-toggleable__label {background-color: #d4ebff;}#sk-container-id-4 div.sk-serial::before {content: \"\";position: absolute;border-left: 1px solid gray;box-sizing: border-box;top: 0;bottom: 0;left: 50%;z-index: 0;}#sk-container-id-4 div.sk-serial {display: flex;flex-direction: column;align-items: center;background-color: white;padding-right: 0.2em;padding-left: 0.2em;position: relative;}#sk-container-id-4 div.sk-item {position: relative;z-index: 1;}#sk-container-id-4 div.sk-parallel {display: flex;align-items: stretch;justify-content: center;background-color: white;position: relative;}#sk-container-id-4 div.sk-item::before, #sk-container-id-4 div.sk-parallel-item::before {content: \"\";position: absolute;border-left: 1px solid gray;box-sizing: border-box;top: 0;bottom: 0;left: 50%;z-index: -1;}#sk-container-id-4 div.sk-parallel-item {display: flex;flex-direction: column;z-index: 1;position: relative;background-color: white;}#sk-container-id-4 div.sk-parallel-item:first-child::after {align-self: flex-end;width: 50%;}#sk-container-id-4 div.sk-parallel-item:last-child::after {align-self: flex-start;width: 50%;}#sk-container-id-4 div.sk-parallel-item:only-child::after {width: 0;}#sk-container-id-4 div.sk-dashed-wrapped {border: 1px dashed gray;margin: 0 0.4em 0.5em 0.4em;box-sizing: border-box;padding-bottom: 0.4em;background-color: white;}#sk-container-id-4 div.sk-label label {font-family: monospace;font-weight: bold;display: inline-block;line-height: 1.2em;}#sk-container-id-4 div.sk-label-container {text-align: center;}#sk-container-id-4 div.sk-container {/* jupyter's `normalize.less` sets `[hidden] { display: none; }` but bootstrap.min.css set `[hidden] { display: none !important; }` so we also need the `!important` here to be able to override the default hidden behavior on the sphinx rendered scikit-learn.org. See: https://github.com/scikit-learn/scikit-learn/issues/21755 */display: inline-block !important;position: relative;}#sk-container-id-4 div.sk-text-repr-fallback {display: none;}</style><div id=\"sk-container-id-4\" class=\"sk-top-container\"><div class=\"sk-text-repr-fallback\"><pre>LinearRegression()</pre><b>In a Jupyter environment, please rerun this cell to show the HTML representation or trust the notebook. <br />On GitHub, the HTML representation is unable to render, please try loading this page with nbviewer.org.</b></div><div class=\"sk-container\" hidden><div class=\"sk-item\"><div class=\"sk-estimator sk-toggleable\"><input class=\"sk-toggleable__control sk-hidden--visually\" id=\"sk-estimator-id-4\" type=\"checkbox\" checked><label for=\"sk-estimator-id-4\" class=\"sk-toggleable__label sk-toggleable__label-arrow\">LinearRegression</label><div class=\"sk-toggleable__content\"><pre>LinearRegression()</pre></div></div></div></div></div>"
            ],
            "text/plain": [
              "LinearRegression()"
            ]
          },
          "execution_count": 49,
          "metadata": {},
          "output_type": "execute_result"
        }
      ],
      "source": [
        "clf = LinearRegression()\n",
        "clf.fit(x_train_1, y_train_1)"
      ]
    },
    {
      "cell_type": "code",
      "execution_count": null,
      "metadata": {
        "id": "ZjNLht4y-wCh",
        "outputId": "258a47b3-b209-43a7-da3d-1dc4c3a73dd2"
      },
      "outputs": [
        {
          "name": "stdout",
          "output_type": "stream",
          "text": [
            "Intercept:  -53.13657186298022\n",
            "Coefficients:\n"
          ]
        },
        {
          "data": {
            "text/plain": [
              "[('MEI', 0.0605710056491394),\n",
              " ('N2O', 0.02174196466857027),\n",
              " ('TSI', 0.03415981688806211),\n",
              " ('Aerosols', -8.37144911641541)]"
            ]
          },
          "execution_count": 50,
          "metadata": {},
          "output_type": "execute_result"
        }
      ],
      "source": [
        "print(\"Intercept: \", clf.intercept_)\n",
        "print(\"Coefficients:\")\n",
        "list(zip(x_1, clf.coef_))"
      ]
    },
    {
      "cell_type": "code",
      "execution_count": null,
      "metadata": {
        "id": "18MUercU-wCi",
        "outputId": "58b35289-0ef6-49be-80f8-a67d419cb0d4"
      },
      "outputs": [
        {
          "name": "stdout",
          "output_type": "stream",
          "text": [
            "Prediction for test set: [0.4994973  0.47402556 0.45350238 0.44432044 0.4591232  0.42707112\n",
            " 0.4311838  0.42411848 0.38135484 0.38933851 0.38846345 0.39489663\n",
            " 0.4093001  0.38835418 0.3726421  0.41817244 0.45693594 0.48525866\n",
            " 0.47434819 0.45574824 0.43001199 0.42539002 0.43910982 0.44125798]\n"
          ]
        }
      ],
      "source": [
        "y_pred_1= clf.predict(x_test_1)\n",
        "print(\"Prediction for test set: {}\".format(y_pred_1))"
      ]
    },
    {
      "cell_type": "code",
      "execution_count": null,
      "metadata": {
        "id": "0l8BI_bY-wCj",
        "outputId": "8a1d6fd9-5451-4465-f30b-9b9b75cd2952"
      },
      "outputs": [
        {
          "data": {
            "text/html": [
              "<div>\n",
              "<style scoped>\n",
              "    .dataframe tbody tr th:only-of-type {\n",
              "        vertical-align: middle;\n",
              "    }\n",
              "\n",
              "    .dataframe tbody tr th {\n",
              "        vertical-align: top;\n",
              "    }\n",
              "\n",
              "    .dataframe thead th {\n",
              "        text-align: right;\n",
              "    }\n",
              "</style>\n",
              "<table border=\"1\" class=\"dataframe\">\n",
              "  <thead>\n",
              "    <tr style=\"text-align: right;\">\n",
              "      <th></th>\n",
              "      <th>Actual value</th>\n",
              "      <th>Predicted value</th>\n",
              "    </tr>\n",
              "  </thead>\n",
              "  <tbody>\n",
              "    <tr>\n",
              "      <th>284</th>\n",
              "      <td>0.601</td>\n",
              "      <td>0.499497</td>\n",
              "    </tr>\n",
              "    <tr>\n",
              "      <th>285</th>\n",
              "      <td>0.498</td>\n",
              "      <td>0.474026</td>\n",
              "    </tr>\n",
              "    <tr>\n",
              "      <th>286</th>\n",
              "      <td>0.435</td>\n",
              "      <td>0.453502</td>\n",
              "    </tr>\n",
              "    <tr>\n",
              "      <th>287</th>\n",
              "      <td>0.466</td>\n",
              "      <td>0.444320</td>\n",
              "    </tr>\n",
              "    <tr>\n",
              "      <th>288</th>\n",
              "      <td>0.372</td>\n",
              "      <td>0.459123</td>\n",
              "    </tr>\n",
              "  </tbody>\n",
              "</table>\n",
              "</div>"
            ],
            "text/plain": [
              "     Actual value  Predicted value\n",
              "284         0.601         0.499497\n",
              "285         0.498         0.474026\n",
              "286         0.435         0.453502\n",
              "287         0.466         0.444320\n",
              "288         0.372         0.459123"
            ]
          },
          "execution_count": 52,
          "metadata": {},
          "output_type": "execute_result"
        }
      ],
      "source": [
        "clf_diff_1 = pd.DataFrame({'Actual value': y_test_1, 'Predicted value': y_pred_1})\n",
        "clf_diff_1.head()"
      ]
    },
    {
      "cell_type": "code",
      "execution_count": null,
      "metadata": {
        "id": "3Xn6JzVB-wCk",
        "outputId": "f16c3d40-dc1a-48f1-fb85-ec165ac8f410"
      },
      "outputs": [
        {
          "name": "stdout",
          "output_type": "stream",
          "text": [
            "R squared: 67.00\n",
            "Mean Absolute Error: 0.09020686837753299\n",
            "Mean Square Error: 0.01371761845998247\n",
            "Root Mean Square Error: 0.1171222372565623\n"
          ]
        }
      ],
      "source": [
        "meanAbErr = mean_absolute_error(y_test_1, y_pred_1)\n",
        "meanSqErr = mean_squared_error(y_test_1, y_pred_1)\n",
        "rootMeanSqErr = np.sqrt(meanSqErr)\n",
        "print('R squared: {:.2f}'.format(clf.score(x_1,y_1)*100))\n",
        "print('Mean Absolute Error:', meanAbErr)\n",
        "print('Mean Square Error:', meanSqErr)\n",
        "print('Root Mean Square Error:', rootMeanSqErr)"
      ]
    },
    {
      "cell_type": "markdown",
      "metadata": {
        "id": "g5BHN9en-wCk"
      },
      "source": [
        "The R<sup>2</sup> value obtained is reduced to 67 from the previously obtained 69.69."
      ]
    },
    {
      "cell_type": "markdown",
      "metadata": {
        "id": "zizpbnfH-wCk"
      },
      "source": [
        "### Conclusion:\n",
        "1. Variables with p-value less than 0.05 are MEI, CFC-12, TSI and Aerosols.\n",
        "2. R<sup>2</sup> score for the model with all variables is 69.69.\n",
        "3. N2O is correlated with CO2, CH4 and CFC-12 as their respective correlation coefficients are above 0.7.\n",
        "4. CFC-11 is correlated with CFC-12 as their correlation coefficient is above 0.7.\n",
        "\n",
        "Statements 4 and 5 justify statement III from the lab document.\n",
        "\n",
        "5. In the model with only MEI, N2O, TSI and Aerosols:\n",
        "    - Regression coefficient of N2O is 0.0217 as compared to 0.0018 in the previous model. This indicates the increased influence of N2O on this model.\n",
        "    - The R<sup>2</sup> score for this model is 67, a decrease from the previous model."
      ]
    }
  ],
  "metadata": {
    "colab": {
      "provenance": []
    },
    "kernelspec": {
      "display_name": "Python 3.11.0 64-bit",
      "language": "python",
      "name": "python3"
    },
    "language_info": {
      "codemirror_mode": {
        "name": "ipython",
        "version": 3
      },
      "file_extension": ".py",
      "mimetype": "text/x-python",
      "name": "python",
      "nbconvert_exporter": "python",
      "pygments_lexer": "ipython3",
      "version": "3.11.0"
    },
    "vscode": {
      "interpreter": {
        "hash": "c261aea317cc0286b3b3261fbba9abdec21eaa57589985bb7a274bf54d6cc0a7"
      }
    }
  },
  "nbformat": 4,
  "nbformat_minor": 0
}